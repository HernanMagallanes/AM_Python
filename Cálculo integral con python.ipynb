{
 "cells": [
  {
   "cell_type": "markdown",
   "metadata": {},
   "source": [
    "# Cálculo integral"
   ]
  },
  {
   "cell_type": "markdown",
   "metadata": {},
   "source": [
    "Advertencia :\n",
    "\n",
    "¡¡ este archivo no quiere reemplazar a ninguna clase en cualquiera de sus modalidades presenciales, ni virtuales\n",
    "tampoco ningún trabajo practico, ejercicio ni parcial o examen !!\n",
    "\n",
    "Simplemente es otro punto de vista del conocimiento con la aplicación de una nueva herramienta."
   ]
  },
  {
   "cell_type": "markdown",
   "metadata": {},
   "source": [
    "## Contenido \n",
    "\n",
    "### 1. Introducción\n",
    "\n",
    "\n",
    "#### a. Interpretación geométrica  \n",
    "#### b. Teoremas fundamentales \n",
    "#### c. Integral definida\n",
    "#### d. Integral indefinida\n",
    "\n",
    "### 2. Métodos de integración  \n",
    "\n",
    "#### a. Integral por sustitución\n",
    "#### b. Intregral definida por fracciones\n",
    "#### c. Integral por partes\n",
    "\n",
    "### 3. Integrales impropias \n",
    "\n",
    "### 4. Integrales dobles\n",
    "\n",
    "### 5. Integrales triples\n",
    "\n",
    "#### a. Coordenadas cilíndricas \n",
    "#### b. Coordenadas esféricas\n",
    "\n",
    "### 6. Aplicaciones\n",
    "\n",
    "#### a. Geometría\n",
    "#### b. Fuerzas distribuidas\n",
    "#### c. Estadística\n",
    "\n",
    "### 7. Linealidad"
   ]
  },
  {
   "cell_type": "markdown",
   "metadata": {},
   "source": [
    "### Librerías "
   ]
  },
  {
   "cell_type": "code",
   "execution_count": 2,
   "metadata": {},
   "outputs": [],
   "source": [
    "from sympy import *\n",
    "import numpy as np\n",
    "\n",
    "import matplotlib.pyplot as plt\n",
    "from matplotlib import cm \n",
    "from mpl_toolkits.mplot3d import axes3d"
   ]
  },
  {
   "cell_type": "markdown",
   "metadata": {},
   "source": [
    "### versiones"
   ]
  },
  {
   "cell_type": "code",
   "execution_count": 3,
   "metadata": {},
   "outputs": [
    {
     "data": {
      "text/plain": [
       "'1.5.1'"
      ]
     },
     "execution_count": 3,
     "metadata": {},
     "output_type": "execute_result"
    }
   ],
   "source": [
    "import sympy as sym\n",
    "sym.__version__"
   ]
  },
  {
   "cell_type": "code",
   "execution_count": 4,
   "metadata": {},
   "outputs": [
    {
     "data": {
      "text/plain": [
       "'1.18.1'"
      ]
     },
     "execution_count": 4,
     "metadata": {},
     "output_type": "execute_result"
    }
   ],
   "source": [
    "np.__version__"
   ]
  },
  {
   "cell_type": "code",
   "execution_count": 5,
   "metadata": {},
   "outputs": [
    {
     "data": {
      "text/plain": [
       "'3.1.3'"
      ]
     },
     "execution_count": 5,
     "metadata": {},
     "output_type": "execute_result"
    }
   ],
   "source": [
    "import matplotlib as mtl\n",
    "mtl.__version__"
   ]
  },
  {
   "cell_type": "markdown",
   "metadata": {},
   "source": [
    "# 1. Introducción \n",
    "\n",
    "recordamos de AM I ...\n",
    "\n",
    "mientras la derivada habla de la recta tangente de una función (como cambia un variable respecto a otra)\n",
    "la integral se interpreta como el área que limita con una función\n",
    "\n",
    "comenzando con el concepto de antiderivada $F(x)$ es la primitiva  de la función $f(x)$ en un intervalo, si $ F'(x) = f(x) $\n",
    "\n",
    "\n",
    "también se tienen una constante arbitraria dado que la derivada de un constante sea cero \n",
    "$  \\frac{d}{dx} C  = 0  \\Rightarrow  \\int dx = x + C $ \n",
    "\n",
    "Entonces ...\n",
    "\n",
    "$ \\int f(x) dx = F(x) + C$\n",
    "\n",
    "se habla de una familia de curvas primitivas.\n"
   ]
  },
  {
   "cell_type": "markdown",
   "metadata": {},
   "source": [
    "### a. Interpretacion geometria \n",
    "\n",
    "función $f(x)$ continua en un intervalo cerrado $[a,b]$ y $ f(x)\\geq 0 $ en el intervalo.  \n",
    "\n",
    "Dividimos el intervalo en partes iguales $\\Delta x$\n",
    "y las multiplicamos por $f(x_i)$  tenemos $n$ rectángulos de área  $f(x_i) \\Delta x$ . \n",
    "\n",
    "Si hacemos que $\\Delta x$ sea un valor muy pequeño, el rectángulo se hace fino en intervalo.\n",
    "\n",
    "La suma de todos esos rectángulos es el área debajo de la función, su integral ... por eso su símbolo es un s estirada. \n",
    "\n",
    "$ A = \\displaystyle \\lim_{ \\Delta x \\to 0} \\sum_{i=1}^{n} {f(x_i) \\Delta x }  = \\int_{a}^{b} f(x) dx $\n",
    "\n",
    "\n",
    "se puede extender esta interpretacion, si para $f(x_i)$ usamos el menor valor de $\\Delta x$ serán rectángulos inscritos y con el mayor valor de $\\Delta x$ tendremos rectángulos circunscritos.\n",
    "\n",
    "\n",
    "$\\displaystyle \\lim_{\\Delta x \\to 0} \\sum_{i=1}^{n} {f(x_{inf}) \\Delta x }  \\leq \\int_{a}^{b} f(x) dx \\leq \\lim_{\\Delta x \\to 0} \\sum_{i=1}^{n} {f(x_{sup}) \\Delta x } $\n",
    "\n",
    "\n",
    "Ojo, ya que el área está delimitada por $ y_s=f(x) , y_i=0$ (arriba y abajo) y $ x=a , x=b $  (izquierda y derecha)\n",
    "\n",
    "Algo interesante es que si la función $ f(x)\\leq 0 $ la integral dará un resultado negativo"
   ]
  },
  {
   "cell_type": "markdown",
   "metadata": {},
   "source": [
    "Las integrales se pueden simplificar si ...\n",
    "\n",
    "la función es par $f(x) = f(-x) \\Rightarrow \\int _{a}^{b} f(x) dx = 2 \\int _{0}^{b} f(x) dx $ hay simetría respecto al eje $y$ \n",
    "\n",
    "ó si la función es impar $f(-x) = - f(x) \\Rightarrow \\int _{-a}^{a} f(x) dx = 0$"
   ]
  },
  {
   "cell_type": "code",
   "execution_count": 6,
   "metadata": {},
   "outputs": [],
   "source": [
    "# ejemplo con rectángulos inscritos\n",
    "\n",
    "def f(x):\n",
    "    # x**2\n",
    "    #(x-3)*(x-5)*(x-7) + 80\n",
    "    \n",
    "    return 0.5*x**2 + np.sin(10* x)"
   ]
  },
  {
   "cell_type": "code",
   "execution_count": 7,
   "metadata": {
    "scrolled": true
   },
   "outputs": [
    {
     "data": {
      "image/png": "[encoded data removed]",
      "text/plain": [
       "<Figure size 1080x360 with 4 Axes>"
      ]
     },
     "metadata": {
      "needs_background": "light"
     },
     "output_type": "display_data"
    }
   ],
   "source": [
    "x = np.linspace(0, 10, 100)\n",
    "y = f(x)\n",
    "\n",
    "a,b = 1,9\n",
    "\n",
    "n1 , n2 = 4,10 # 4,8\n",
    "w1, w2 = (b-a)/n1 , (b-a)/n2\n",
    "\n",
    "plt.figure(figsize=(15,5))\n",
    "\n",
    "### con x_inf ###\n",
    "#################\n",
    "\n",
    "plt.subplot(221)\n",
    "\n",
    "x_bar = np.linspace(a , b-w1, n1)\n",
    "y_bar = f(x_bar)\n",
    "\n",
    "plt.plot(x, y, ls='--')\n",
    "plt.bar(x_bar, y_bar, width=w1, align='edge', alpha=0.2, color='r', ec='black')\n",
    "plt.xticks((a, b))\n",
    "plt.yticks([])\n",
    "\n",
    "plt.subplot(223)\n",
    "\n",
    "x_bar = np.linspace(a , b-w2, n2)\n",
    "y_bar = f(x_bar)\n",
    "\n",
    "plt.plot(x, y, ls='--')\n",
    "plt.bar(x_bar, y_bar, width=w2, align='edge', alpha=0.2, color='r', ec='black')\n",
    "plt.xticks((a, b))\n",
    "plt.yticks([])\n",
    "\n",
    "### con x_sup ###\n",
    "#################\n",
    "\n",
    "plt.subplot(222)\n",
    "\n",
    "x_bar = np.linspace(a , b-w1, n1)\n",
    "x_sup = np.linspace(a+w1, b, n1)\n",
    "y_bar = f(x_sup)\n",
    "\n",
    "plt.plot(x, y, ls='--')\n",
    "plt.bar(x_bar, y_bar, width=w1, align='edge', alpha=0.4, color='r', ec='black')\n",
    "plt.xticks((a, b))\n",
    "plt.yticks([])\n",
    "\n",
    "\n",
    "plt.subplot(224)\n",
    "\n",
    "x_bar = np.linspace(a , b-w2, n2)\n",
    "x_sup = np.linspace(a+w2, b, n2)\n",
    "y_bar = f(x_sup)\n",
    "\n",
    "plt.plot(x, y, ls='--')\n",
    "plt.bar(x_bar, y_bar, width=w2, align='edge', alpha=0.4, color='r', ec='black')\n",
    "plt.xticks((a, b))\n",
    "plt.yticks([])\n",
    "\n",
    "\n",
    "plt.show()"
   ]
  },
  {
   "cell_type": "code",
   "execution_count": 8,
   "metadata": {},
   "outputs": [
    {
     "data": {
      "image/png": "[encoded data removed]",
      "text/plain": [
       "<Figure size 720x360 with 1 Axes>"
      ]
     },
     "metadata": {
      "needs_background": "light"
     },
     "output_type": "display_data"
    }
   ],
   "source": [
    "# función \n",
    "x = np.linspace(0 , 10, 200)\n",
    "y = f(x)\n",
    "\n",
    "# área a calcular \n",
    "a, b = 1, 9\n",
    "x_area = np.linspace(a,b,200)\n",
    "y_area = f(x_area) \n",
    "\n",
    "# grafico\n",
    "plt.figure(figsize=(10,5))\n",
    "\n",
    "plt.plot(x, y, color='b')\n",
    "plt.fill_between( x_area,0, y_area, alpha=0.2, color='grey')\n",
    "\n",
    "plt.xticks((a, b))\n",
    "plt.yticks([])\n",
    "plt.show()         "
   ]
  },
  {
   "cell_type": "markdown",
   "metadata": {},
   "source": [
    "### b.Teoremas fundamentales del cálculo integral \n",
    "\n",
    "Estos teoremas relacionan el cálculo diferencial y el cálculo integral\n",
    "\n",
    "Primer teorema\n",
    "\n",
    "Sea $f(x)$ una función es continua en el intervalo cerrado $[a,b]$\n",
    "\n",
    "Si $F(x)$ es una función definida como $ F(x) =\\displaystyle \\int_{a}^{x} f(t) dt   $\n",
    "\n",
    "Entonces ... \n",
    "\n",
    "$$\\displaystyle F'(x)=f(x) \\Leftrightarrow \\frac{d}{dx} \\int _{a}^{x} f(t)dt =f(x)  $$\n",
    "\n",
    "$\\,$\n",
    "\n",
    "Segundo teorema\n",
    "\n",
    "Sea $f(x)$ una función es continua en el intervalo cerrado $[a,b]$ y \n",
    "sea función $F(x)$ tal que $F'(x)=f(x)$  \n",
    "\n",
    "Entonces para toda $x$ en $[a,b]$ ...\n",
    "\n",
    "$$\\displaystyle \\int_{a}^{b} f(x) dx = F(a) - F(b)   $$\n",
    "\n",
    "\n",
    "\n",
    "Con la regla de la cadena podemos extender este teorema si $a = a(x)$ y $b = b(x)$\n",
    "\n",
    "$$\\frac{d}{dx} \\int _{a(x)}^{b(x)} f(t)dt = f(b(x)) \\cdot b'(x) - f(a(x)) \\cdot a'(x)  $$\n",
    "\n"
   ]
  },
  {
   "cell_type": "markdown",
   "metadata": {},
   "source": [
    "### c. Integral definida\n",
    "\n",
    "tiene límites de integración  y retorna un valor numérico\n",
    "\n",
    "$\\displaystyle \\int_{a}^{b} f(x) dx = F(b) - F(a)$\n",
    "\n"
   ]
  },
  {
   "cell_type": "code",
   "execution_count": 9,
   "metadata": {},
   "outputs": [
    {
     "data": {
      "text/latex": [
       "$\\displaystyle x^{2}$"
      ],
      "text/plain": [
       "x**2"
      ]
     },
     "execution_count": 9,
     "metadata": {},
     "output_type": "execute_result"
    }
   ],
   "source": [
    "x = Symbol('x')\n",
    "f = x**2\n",
    "f"
   ]
  },
  {
   "cell_type": "code",
   "execution_count": 10,
   "metadata": {},
   "outputs": [
    {
     "data": {
      "text/latex": [
       "$\\displaystyle \\int\\limits_{0}^{2} x^{2}\\, dx$"
      ],
      "text/plain": [
       "Integral(x**2, (x, 0, 2))"
      ]
     },
     "execution_count": 10,
     "metadata": {},
     "output_type": "execute_result"
    }
   ],
   "source": [
    "F = Integral(f, (x,0,2))\n",
    "F"
   ]
  },
  {
   "cell_type": "code",
   "execution_count": 11,
   "metadata": {
    "scrolled": true
   },
   "outputs": [
    {
     "data": {
      "text/latex": [
       "$\\displaystyle \\frac{8}{3}$"
      ],
      "text/plain": [
       "8/3"
      ]
     },
     "execution_count": 11,
     "metadata": {},
     "output_type": "execute_result"
    }
   ],
   "source": [
    "F.doit()"
   ]
  },
  {
   "cell_type": "code",
   "execution_count": 12,
   "metadata": {},
   "outputs": [
    {
     "data": {
      "text/latex": [
       "$\\displaystyle \\frac{8}{3}$"
      ],
      "text/plain": [
       "8/3"
      ]
     },
     "execution_count": 12,
     "metadata": {},
     "output_type": "execute_result"
    }
   ],
   "source": [
    "integrate(f,(x,0,2) ) "
   ]
  },
  {
   "cell_type": "markdown",
   "metadata": {},
   "source": [
    "### d. Integral indefinida\n",
    "\n",
    "No tiene límites de integración y retorna una función\n",
    "\n",
    "$\\displaystyle \\int f(x) dx = F(x) + C$\n",
    "\n",
    "\n",
    "$\\textit{Regla de la cadena para la integración } $\n",
    "\n",
    "$\\displaystyle \\int f(g(x)) g'(x) dx = F(g(x)) + C$\n"
   ]
  },
  {
   "cell_type": "code",
   "execution_count": 13,
   "metadata": {},
   "outputs": [
    {
     "data": {
      "text/latex": [
       "$\\displaystyle x^{2}$"
      ],
      "text/plain": [
       "x**2"
      ]
     },
     "execution_count": 13,
     "metadata": {},
     "output_type": "execute_result"
    }
   ],
   "source": [
    "x = Symbol('x')\n",
    "f = x**2\n",
    "f"
   ]
  },
  {
   "cell_type": "code",
   "execution_count": 14,
   "metadata": {
    "scrolled": true
   },
   "outputs": [
    {
     "data": {
      "text/latex": [
       "$\\displaystyle \\int x^{2}\\, dx$"
      ],
      "text/plain": [
       "Integral(x**2, x)"
      ]
     },
     "execution_count": 14,
     "metadata": {},
     "output_type": "execute_result"
    }
   ],
   "source": [
    "F = Integral(f)\n",
    "F"
   ]
  },
  {
   "cell_type": "code",
   "execution_count": 15,
   "metadata": {},
   "outputs": [
    {
     "data": {
      "text/latex": [
       "$\\displaystyle \\frac{x^{3}}{3}$"
      ],
      "text/plain": [
       "x**3/3"
      ]
     },
     "execution_count": 15,
     "metadata": {},
     "output_type": "execute_result"
    }
   ],
   "source": [
    "F.doit()"
   ]
  },
  {
   "cell_type": "code",
   "execution_count": 16,
   "metadata": {
    "scrolled": false
   },
   "outputs": [
    {
     "data": {
      "text/latex": [
       "$\\displaystyle \\frac{x^{3}}{3}$"
      ],
      "text/plain": [
       "x**3/3"
      ]
     },
     "execution_count": 16,
     "metadata": {},
     "output_type": "execute_result"
    }
   ],
   "source": [
    "# sympy no recnoce la constante de integración \n",
    "integrate(f) "
   ]
  },
  {
   "cell_type": "code",
   "execution_count": 17,
   "metadata": {},
   "outputs": [
    {
     "data": {
      "text/latex": [
       "$\\displaystyle c + \\frac{x^{3}}{3}$"
      ],
      "text/plain": [
       "c + x**3/3"
      ]
     },
     "execution_count": 17,
     "metadata": {},
     "output_type": "execute_result"
    }
   ],
   "source": [
    "# le podemos agregar la constante\n",
    "c = symbols(\"c\")\n",
    "\n",
    "F.doit() + c"
   ]
  },
  {
   "cell_type": "markdown",
   "metadata": {},
   "source": [
    "# 2. Metodos de integración"
   ]
  },
  {
   "cell_type": "markdown",
   "metadata": {},
   "source": [
    "### a. Integral por sustitución "
   ]
  },
  {
   "cell_type": "code",
   "execution_count": 18,
   "metadata": {
    "scrolled": true
   },
   "outputs": [
    {
     "data": {
      "text/latex": [
       "$\\displaystyle x \\sqrt{x + 1}$"
      ],
      "text/plain": [
       "x*sqrt(x + 1)"
      ]
     },
     "execution_count": 18,
     "metadata": {},
     "output_type": "execute_result"
    }
   ],
   "source": [
    "### sustitucion\n",
    "\n",
    "x = Symbol('x')\n",
    "f = x*sqrt(1+x)\n",
    "f"
   ]
  },
  {
   "cell_type": "code",
   "execution_count": 19,
   "metadata": {},
   "outputs": [
    {
     "data": {
      "text/latex": [
       "$\\displaystyle \\int x \\sqrt{x + 1}\\, dx$"
      ],
      "text/plain": [
       "Integral(x*sqrt(x + 1), x)"
      ]
     },
     "execution_count": 19,
     "metadata": {},
     "output_type": "execute_result"
    }
   ],
   "source": [
    "F = Integral(f, x)\n",
    "F"
   ]
  },
  {
   "cell_type": "code",
   "execution_count": 20,
   "metadata": {},
   "outputs": [
    {
     "data": {
      "text/latex": [
       "$\\displaystyle \\int 2 u \\left(u^{2} - 1\\right) \\sqrt{u^{2}}\\, du$"
      ],
      "text/plain": [
       "Integral(2*u*(u**2 - 1)*sqrt(u**2), u)"
      ]
     },
     "execution_count": 20,
     "metadata": {},
     "output_type": "execute_result"
    }
   ],
   "source": [
    "u = Symbol('u')\n",
    "\n",
    "F.transform( sqrt(1+x) , u)"
   ]
  },
  {
   "cell_type": "code",
   "execution_count": 21,
   "metadata": {
    "scrolled": true
   },
   "outputs": [
    {
     "data": {
      "text/latex": [
       "$\\displaystyle \\frac{2 \\left(u^{2}\\right)^{\\frac{5}{2}}}{5} - \\frac{2 \\left(u^{2}\\right)^{\\frac{3}{2}}}{3}$"
      ],
      "text/plain": [
       "2*(u**2)**(5/2)/5 - 2*(u**2)**(3/2)/3"
      ]
     },
     "execution_count": 21,
     "metadata": {},
     "output_type": "execute_result"
    }
   ],
   "source": [
    "# integral indefinida sin C\n",
    "I = F.transform( sqrt(1+x) , u).doit()\n",
    "I"
   ]
  },
  {
   "cell_type": "code",
   "execution_count": 22,
   "metadata": {},
   "outputs": [
    {
     "data": {
      "text/latex": [
       "$\\displaystyle \\int\\limits_{0}^{3} x \\sqrt{x + 1}\\, dx$"
      ],
      "text/plain": [
       "Integral(x*sqrt(x + 1), (x, 0, 3))"
      ]
     },
     "execution_count": 22,
     "metadata": {},
     "output_type": "execute_result"
    }
   ],
   "source": [
    "# integral con límites (definida)\n",
    "F = Integral(f, (x,0,3))\n",
    "F"
   ]
  },
  {
   "cell_type": "code",
   "execution_count": 23,
   "metadata": {},
   "outputs": [
    {
     "data": {
      "text/latex": [
       "$\\displaystyle \\int\\limits_{1}^{2} 2 u \\left(u^{2} - 1\\right) \\sqrt{u^{2}}\\, du$"
      ],
      "text/plain": [
       "Integral(2*u*(u**2 - 1)*sqrt(u**2), (u, 1, 2))"
      ]
     },
     "execution_count": 23,
     "metadata": {},
     "output_type": "execute_result"
    }
   ],
   "source": [
    "# la misma integral con sustitución\n",
    "u = Symbol('u')\n",
    "\n",
    "F.transform( sqrt(1+x) , u)"
   ]
  },
  {
   "cell_type": "code",
   "execution_count": 24,
   "metadata": {},
   "outputs": [
    {
     "data": {
      "text/latex": [
       "$\\displaystyle \\frac{116}{15}$"
      ],
      "text/plain": [
       "116/15"
      ]
     },
     "execution_count": 24,
     "metadata": {},
     "output_type": "execute_result"
    }
   ],
   "source": [
    "F.transform( sqrt(1+x) , u).doit()"
   ]
  },
  {
   "cell_type": "code",
   "execution_count": 25,
   "metadata": {},
   "outputs": [
    {
     "data": {
      "text/latex": [
       "$\\displaystyle \\frac{2 x^{2} \\sqrt{x + 1}}{5} + \\frac{2 x \\sqrt{x + 1}}{15} - \\frac{4 \\sqrt{x + 1}}{15}$"
      ],
      "text/plain": [
       "2*x**2*sqrt(x + 1)/5 + 2*x*sqrt(x + 1)/15 - 4*sqrt(x + 1)/15"
      ]
     },
     "execution_count": 25,
     "metadata": {},
     "output_type": "execute_result"
    }
   ],
   "source": [
    "# integral indefinida pero con la función sin sustitución\n",
    "\n",
    "Integral(f,x).doit()"
   ]
  },
  {
   "cell_type": "code",
   "execution_count": 26,
   "metadata": {
    "scrolled": true
   },
   "outputs": [
    {
     "data": {
      "text/latex": [
       "$\\displaystyle \\int\\limits_{0}^{3} x \\sqrt{x + 1}\\, dx$"
      ],
      "text/plain": [
       "Integral(x*sqrt(x + 1), (x, 0, 3))"
      ]
     },
     "execution_count": 26,
     "metadata": {},
     "output_type": "execute_result"
    }
   ],
   "source": [
    "F = Integral(f, (x,0,3))\n",
    "F"
   ]
  },
  {
   "cell_type": "code",
   "execution_count": 27,
   "metadata": {
    "scrolled": true
   },
   "outputs": [
    {
     "data": {
      "text/latex": [
       "$\\displaystyle \\frac{116}{15}$"
      ],
      "text/plain": [
       "116/15"
      ]
     },
     "execution_count": 27,
     "metadata": {},
     "output_type": "execute_result"
    }
   ],
   "source": [
    "F.doit()"
   ]
  },
  {
   "cell_type": "code",
   "execution_count": 28,
   "metadata": {},
   "outputs": [
    {
     "data": {
      "image/png": "[encoded data removed]",
      "text/plain": [
       "<Figure size 576x288 with 1 Axes>"
      ]
     },
     "metadata": {
      "needs_background": "light"
     },
     "output_type": "display_data"
    }
   ],
   "source": [
    "# función \n",
    "x = np.linspace(0 , 5, 10)\n",
    "y = np.sqrt(1+x)\n",
    "\n",
    "# área a calcular \n",
    "a, b = 0, 3\n",
    "x_area = np.linspace(a,b,10)\n",
    "y_area = np.sqrt(1+x_area)\n",
    "\n",
    "# grafico\n",
    "plt.figure(figsize=(8,4))\n",
    "\n",
    "plt.plot(x, y, color='b')\n",
    "plt.fill_between( x_area,0, y_area, alpha=0.2, color='grey')\n",
    "\n",
    "plt.xticks((a, b))\n",
    "plt.show()         "
   ]
  },
  {
   "cell_type": "markdown",
   "metadata": {},
   "source": [
    "###  b. Intregral definida por fracciones fracciones \n",
    "\n",
    "la integral se descompone en fracciones simples.\n",
    "\n",
    "si tenemos una función racional tal que el grado de P(x) sea menor al de Q(x) ...$\\frac{P(x)}{Q(x)} $ \n",
    "\n",
    "se descompone la función $ Q(x) = (x-a)(x-b)(x-c) $\n",
    "\n",
    "$\\frac{P(x)}{Q(x)}  = \\frac{A}{x-a} + \\frac{B}{x-b} + \\frac{C}{x-c} $\n"
   ]
  },
  {
   "cell_type": "code",
   "execution_count": 29,
   "metadata": {},
   "outputs": [
    {
     "data": {
      "text/latex": [
       "$\\displaystyle \\frac{5 x + 3}{x^{2} + 2 x - 3}$"
      ],
      "text/plain": [
       "(5*x + 3)/(x**2 + 2*x - 3)"
      ]
     },
     "execution_count": 29,
     "metadata": {},
     "output_type": "execute_result"
    }
   ],
   "source": [
    "x = Symbol('x')\n",
    "f = (5*x +3)/(x**2 + 2*x -3)\n",
    "f"
   ]
  },
  {
   "cell_type": "code",
   "execution_count": 30,
   "metadata": {},
   "outputs": [
    {
     "data": {
      "text/latex": [
       "$\\displaystyle \\int \\frac{5 x + 3}{x^{2} + 2 x - 3}\\, dx$"
      ],
      "text/plain": [
       "Integral((5*x + 3)/(x**2 + 2*x - 3), x)"
      ]
     },
     "execution_count": 30,
     "metadata": {},
     "output_type": "execute_result"
    }
   ],
   "source": [
    "F = Integral(f)\n",
    "F"
   ]
  },
  {
   "cell_type": "code",
   "execution_count": 31,
   "metadata": {},
   "outputs": [
    {
     "data": {
      "text/latex": [
       "$\\displaystyle 2 \\log{\\left(x - 1 \\right)} + 3 \\log{\\left(x + 3 \\right)}$"
      ],
      "text/plain": [
       "2*log(x - 1) + 3*log(x + 3)"
      ]
     },
     "execution_count": 31,
     "metadata": {},
     "output_type": "execute_result"
    }
   ],
   "source": [
    "# sympy no reconoce que los ln deben ser con valor absoluto\n",
    "F.doit()"
   ]
  },
  {
   "cell_type": "markdown",
   "metadata": {},
   "source": [
    "### c. Integral por partes \n",
    "\n",
    "se utiliza la regla de la cadena del cálculo diferencial con dos funciones $u(x)$ y $v(x)$\n",
    "\n",
    "$u(x) \\cdot v(x) = u'(x) \\cdot v(x) + u(x) \\cdot v'(x) $\n",
    "\n",
    "$u \\cdot v = v \\cdot \\frac{du}{dx} + u \\cdot \\frac {dv}{dx} $\n",
    "\n",
    "\n",
    "$u \\cdot v - v \\cdot \\frac{du}{dx}  =  u \\cdot \\frac {dv}{dx} $\n",
    "\n",
    "$ \\int  u \\cdot \\frac {dv}{dx} =u \\cdot v -\\int  v \\cdot \\frac{du}{dx}  $\n",
    "\n"
   ]
  },
  {
   "cell_type": "code",
   "execution_count": 32,
   "metadata": {},
   "outputs": [
    {
     "data": {
      "text/latex": [
       "$\\displaystyle \\frac{\\log{\\left(x \\right)}}{x^{2}}$"
      ],
      "text/plain": [
       "log(x)/x**2"
      ]
     },
     "execution_count": 32,
     "metadata": {},
     "output_type": "execute_result"
    }
   ],
   "source": [
    "x = Symbol('x')\n",
    "f = (ln(x))/(x**2)\n",
    "f"
   ]
  },
  {
   "cell_type": "code",
   "execution_count": 33,
   "metadata": {},
   "outputs": [
    {
     "data": {
      "text/latex": [
       "$\\displaystyle - \\frac{\\log{\\left(x \\right)}}{x} - \\frac{1}{x}$"
      ],
      "text/plain": [
       "-log(x)/x - 1/x"
      ]
     },
     "execution_count": 33,
     "metadata": {},
     "output_type": "execute_result"
    }
   ],
   "source": [
    "integrate(f)"
   ]
  },
  {
   "cell_type": "markdown",
   "metadata": {},
   "source": [
    "# 3. Integrales impropias \n",
    "\n",
    "1er especie $ \\int_{a}^{ + \\infty}f(x)dx $ ó $ \\int_{- \\infty}^{b}f(x)dx $ \n",
    "\n",
    "2da especie $ \\int_{a}^{ b}f(x)dx $ pero la función no esta definida para todo el intervalo $[a,b]$ hay un punto singular\n",
    "\n",
    "3ra especie es la combinación de la 1er especie con la 2da especie\n",
    "\n",
    "\n",
    "Para este tipo de integrales se aplica el límite en uno de sus extremos, si existe el límite se dice que la integral converge, por lo contrario si el límite tiende a infinito ó no existe la integral diverge"
   ]
  },
  {
   "cell_type": "code",
   "execution_count": 34,
   "metadata": {},
   "outputs": [
    {
     "data": {
      "text/latex": [
       "$\\displaystyle \\frac{1}{\\sqrt{x} \\left(x + 1\\right)}$"
      ],
      "text/plain": [
       "1/(sqrt(x)*(x + 1))"
      ]
     },
     "execution_count": 34,
     "metadata": {},
     "output_type": "execute_result"
    }
   ],
   "source": [
    "# 1er especie \n",
    "\n",
    "x = symbols('x')\n",
    "f = 1/((x+1)*sqrt(x))\n",
    "f"
   ]
  },
  {
   "cell_type": "code",
   "execution_count": 35,
   "metadata": {},
   "outputs": [
    {
     "data": {
      "text/latex": [
       "$\\displaystyle \\int\\limits_{0}^{\\infty} \\frac{1}{\\sqrt{x} \\left(x + 1\\right)}\\, dx$"
      ],
      "text/plain": [
       "Integral(1/(sqrt(x)*(x + 1)), (x, 0, oo))"
      ]
     },
     "execution_count": 35,
     "metadata": {},
     "output_type": "execute_result"
    }
   ],
   "source": [
    "# sympy reconoce una integral que en un extremo no puede ser evaluada, solo puede aplicarse le el límite al extremo\n",
    "\n",
    "F = Integral(f,(x,0, +oo))\n",
    "F"
   ]
  },
  {
   "cell_type": "code",
   "execution_count": 36,
   "metadata": {},
   "outputs": [
    {
     "data": {
      "text/latex": [
       "$\\displaystyle \\pi$"
      ],
      "text/plain": [
       "pi"
      ]
     },
     "execution_count": 36,
     "metadata": {},
     "output_type": "execute_result"
    }
   ],
   "source": [
    "F.doit()"
   ]
  },
  {
   "cell_type": "code",
   "execution_count": 37,
   "metadata": {},
   "outputs": [
    {
     "data": {
      "text/latex": [
       "$\\displaystyle 2 \\operatorname{atan}{\\left(\\sqrt{x} \\right)}$"
      ],
      "text/plain": [
       "2*atan(sqrt(x))"
      ]
     },
     "execution_count": 37,
     "metadata": {},
     "output_type": "execute_result"
    }
   ],
   "source": [
    "integrate(f)"
   ]
  },
  {
   "cell_type": "code",
   "execution_count": 38,
   "metadata": {},
   "outputs": [
    {
     "data": {
      "text/latex": [
       "$\\displaystyle \\lim_{x \\to 0^+}\\left(2 \\operatorname{atan}{\\left(\\sqrt{x} \\right)}\\right)$"
      ],
      "text/plain": [
       "Limit(2*atan(sqrt(x)), x, 0)"
      ]
     },
     "execution_count": 38,
     "metadata": {},
     "output_type": "execute_result"
    }
   ],
   "source": [
    "F_l = integrate(f)\n",
    "\n",
    "Limit(F_l,x, 0)"
   ]
  },
  {
   "cell_type": "code",
   "execution_count": 39,
   "metadata": {},
   "outputs": [
    {
     "data": {
      "text/latex": [
       "$\\displaystyle 0$"
      ],
      "text/plain": [
       "0"
      ]
     },
     "execution_count": 39,
     "metadata": {},
     "output_type": "execute_result"
    }
   ],
   "source": [
    "limit(F_l,x, 0)"
   ]
  },
  {
   "cell_type": "code",
   "execution_count": 40,
   "metadata": {},
   "outputs": [
    {
     "data": {
      "image/png": "[encoded data removed]",
      "text/plain": [
       "<Figure size 576x288 with 1 Axes>"
      ]
     },
     "metadata": {
      "needs_background": "light"
     },
     "output_type": "display_data"
    }
   ],
   "source": [
    "# función \n",
    "x = np.linspace(0.01 , 5, 30)\n",
    "y = 1/((x+1)*np.sqrt(x))\n",
    "\n",
    "# área a calcular \n",
    "a, b = 0.01, 5\n",
    "x_area = np.linspace(a,b,30)\n",
    "y_area = 1/((x+1)*np.sqrt(x))\n",
    "\n",
    "# grafico\n",
    "plt.figure(figsize=(8,4))\n",
    "\n",
    "plt.plot(x, y, color='b')\n",
    "plt.fill_between( x_area,0, y_area, alpha=0.2, color='grey')\n",
    "\n",
    "plt.xticks((a, b))\n",
    "plt.show()          "
   ]
  },
  {
   "cell_type": "code",
   "execution_count": 41,
   "metadata": {},
   "outputs": [
    {
     "data": {
      "text/latex": [
       "$\\displaystyle \\frac{1}{\\sqrt[3]{x^{2}}}$"
      ],
      "text/plain": [
       "(x**2)**(-1/3)"
      ]
     },
     "execution_count": 41,
     "metadata": {},
     "output_type": "execute_result"
    }
   ],
   "source": [
    "#2da especie\n",
    "\n",
    "x = symbols('x')\n",
    "f = 1/root((x**2),3)\n",
    "f"
   ]
  },
  {
   "cell_type": "code",
   "execution_count": 42,
   "metadata": {},
   "outputs": [
    {
     "data": {
      "text/latex": [
       "$\\displaystyle \\int\\limits_{-1}^{1} \\frac{1}{\\sqrt[3]{x^{2}}}\\, dx$"
      ],
      "text/plain": [
       "Integral((x**2)**(-1/3), (x, -1, 1))"
      ]
     },
     "execution_count": 42,
     "metadata": {},
     "output_type": "execute_result"
    }
   ],
   "source": [
    "F = Integral(f, (x,-1,1))\n",
    "F"
   ]
  },
  {
   "cell_type": "code",
   "execution_count": 43,
   "metadata": {},
   "outputs": [
    {
     "data": {
      "text/latex": [
       "$\\displaystyle 6$"
      ],
      "text/plain": [
       "6"
      ]
     },
     "execution_count": 43,
     "metadata": {},
     "output_type": "execute_result"
    }
   ],
   "source": [
    "F.doit()"
   ]
  },
  {
   "cell_type": "code",
   "execution_count": 44,
   "metadata": {},
   "outputs": [
    {
     "data": {
      "image/png": "[encoded data removed]",
      "text/plain": [
       "<Figure size 576x288 with 1 Axes>"
      ]
     },
     "metadata": {
      "needs_background": "light"
     },
     "output_type": "display_data"
    }
   ],
   "source": [
    "# función partida\n",
    "\n",
    "x1 = np.linspace(-2 ,-0.05 , 20) \n",
    "y1 = 1/(np.abs(x1)**(2/3))\n",
    "\n",
    "x2 = np.linspace(0.05 ,2 , 20)\n",
    "y2 = 1/(np.abs (x2)**(2/3))\n",
    "\n",
    "x = np.concatenate((x1,x2), axis=0)\n",
    "y = 1/(np.abs(x)**(2/3))\n",
    "\n",
    "# área a calcular desde -1 a 1 \n",
    "a, b = -1, 1\n",
    "x_area = np.linspace(a,b,30)\n",
    "y_area =  1/(np.abs(x_area)**(2/3))\n",
    "\n",
    "# gráfico\n",
    "plt.figure(figsize=(8,4))\n",
    "\n",
    "plt.plot(x1, y1, color='b')\n",
    "plt.plot(x2, y2, color='b')\n",
    "plt.fill_between( x_area,0, y_area, alpha=0.2, color='grey')\n",
    "\n",
    "plt.xticks((a, b))\n",
    "plt.yticks([])\n",
    "\n",
    "plt.show()"
   ]
  },
  {
   "cell_type": "code",
   "execution_count": 45,
   "metadata": {},
   "outputs": [
    {
     "data": {
      "text/latex": [
       "$\\displaystyle \\frac{3}{x}$"
      ],
      "text/plain": [
       "3/x"
      ]
     },
     "execution_count": 45,
     "metadata": {},
     "output_type": "execute_result"
    }
   ],
   "source": [
    "## Integral no convergente\n",
    "\n",
    "x = symbols('x')\n",
    "f = 3/(x)\n",
    "f"
   ]
  },
  {
   "cell_type": "code",
   "execution_count": 46,
   "metadata": {},
   "outputs": [
    {
     "data": {
      "text/latex": [
       "$\\displaystyle \\int\\limits_{e}^{\\infty} \\frac{3}{x}\\, dx$"
      ],
      "text/plain": [
       "Integral(3/x, (x, E, oo))"
      ]
     },
     "execution_count": 46,
     "metadata": {},
     "output_type": "execute_result"
    }
   ],
   "source": [
    "F = Integral(f,(x,E, +oo))\n",
    "F"
   ]
  },
  {
   "cell_type": "code",
   "execution_count": 47,
   "metadata": {},
   "outputs": [
    {
     "data": {
      "text/latex": [
       "$\\displaystyle \\infty$"
      ],
      "text/plain": [
       "oo"
      ]
     },
     "execution_count": 47,
     "metadata": {},
     "output_type": "execute_result"
    }
   ],
   "source": [
    "# integral no tiene un valor numérico, se dice que diverge\n",
    "F.doit()"
   ]
  },
  {
   "cell_type": "code",
   "execution_count": 48,
   "metadata": {},
   "outputs": [
    {
     "data": {
      "image/png": "[encoded data removed]",
      "text/plain": [
       "<Figure size 576x288 with 1 Axes>"
      ]
     },
     "metadata": {
      "needs_background": "light"
     },
     "output_type": "display_data"
    }
   ],
   "source": [
    "# función \n",
    "x = np.linspace(1, 20, 20)\n",
    "y = 3/x\n",
    "\n",
    "# área a calcular \n",
    "a, b = np.e, 20\n",
    "x_area = np.linspace(a,b,20)\n",
    "y_area = 3/x_area \n",
    "\n",
    "# gráfico\n",
    "plt.figure(figsize=(8,4))\n",
    "\n",
    "plt.plot(x, y, color='b')\n",
    "plt.fill_between( x_area,0, y_area, alpha=0.2, color='grey')\n",
    "\n",
    "plt.xticks((a, b))\n",
    "plt.yticks([])\n",
    "plt.show()         "
   ]
  },
  {
   "cell_type": "markdown",
   "metadata": {},
   "source": [
    "# 4. Integrales dobles\n",
    "\n",
    "Hasta ahora las regiones a integrar tienen 1 curva $y=f(x)$ y 3 rectas $x=a, x=b, y=0$  \n",
    "\n",
    "$\\displaystyle \\int_{a}^{b} f(x) dx $\n",
    "\n",
    "Se puede extender la region a integrar si se cambian los límites de integracios y los diferenciales\n",
    "\n",
    "$\\displaystyle \\int_{a}^{b} f(x) - g(x) dx = \\int_{a}^{b} \\int_{g(x)}^{f(x)} dy dx $\n"
   ]
  },
  {
   "cell_type": "code",
   "execution_count": 49,
   "metadata": {},
   "outputs": [
    {
     "data": {
      "text/latex": [
       "$\\displaystyle y + 5$"
      ],
      "text/plain": [
       "y + 5"
      ]
     },
     "execution_count": 49,
     "metadata": {},
     "output_type": "execute_result"
    }
   ],
   "source": [
    "# también se puede cambiar el orden de integración para facilitar el cálculo \n",
    "\n",
    "x,y = symbols('x y')\n",
    "x1 = y + 5\n",
    "x1"
   ]
  },
  {
   "cell_type": "code",
   "execution_count": 50,
   "metadata": {},
   "outputs": [
    {
     "data": {
      "text/latex": [
       "$\\displaystyle 0.5 y^{2} + 1$"
      ],
      "text/plain": [
       "0.5*y**2 + 1"
      ]
     },
     "execution_count": 50,
     "metadata": {},
     "output_type": "execute_result"
    }
   ],
   "source": [
    "y = symbols('y')\n",
    "x2 = 1/2*y**2 +1 \n",
    "x2"
   ]
  },
  {
   "cell_type": "code",
   "execution_count": 51,
   "metadata": {},
   "outputs": [
    {
     "data": {
      "text/plain": [
       "[{y: -2.00000000000000}, {y: 4.00000000000000}]"
      ]
     },
     "execution_count": 51,
     "metadata": {},
     "output_type": "execute_result"
    }
   ],
   "source": [
    "# buscamos intersecciones\n",
    "from sympy.solvers import solve\n",
    "solve(x1 - x2, dict=True)"
   ]
  },
  {
   "cell_type": "code",
   "execution_count": 52,
   "metadata": {
    "scrolled": true
   },
   "outputs": [
    {
     "data": {
      "text/latex": [
       "$\\displaystyle \\int\\limits_{-2}^{4} \\left(- 0.5 y^{2} + y + 4\\right)\\, dy$"
      ],
      "text/plain": [
       "Integral(-0.5*y**2 + y + 4, (y, -2, 4))"
      ]
     },
     "execution_count": 52,
     "metadata": {},
     "output_type": "execute_result"
    }
   ],
   "source": [
    "F = Integral(x1 - x2 ,(y,-2, 4))\n",
    "F"
   ]
  },
  {
   "cell_type": "code",
   "execution_count": 53,
   "metadata": {},
   "outputs": [
    {
     "data": {
      "text/latex": [
       "$\\displaystyle 18.0$"
      ],
      "text/plain": [
       "18.0000000000000"
      ]
     },
     "execution_count": 53,
     "metadata": {},
     "output_type": "execute_result"
    }
   ],
   "source": [
    "F.doit()"
   ]
  },
  {
   "cell_type": "code",
   "execution_count": 54,
   "metadata": {},
   "outputs": [
    {
     "data": {
      "text/latex": [
       "$\\displaystyle \\int\\limits_{-2}^{4}\\int\\limits_{0.5 y^{2} + 1}^{y + 5} 1\\, dx\\, dy$"
      ],
      "text/plain": [
       "Integral(1, (x, 0.5*y**2 + 1, y + 5), (y, -2, 4))"
      ]
     },
     "execution_count": 54,
     "metadata": {},
     "output_type": "execute_result"
    }
   ],
   "source": [
    "F2 = Integral(1,(x,x2, x1))\n",
    "F1 = Integral(F2, (y,-2, 4))\n",
    "F1"
   ]
  },
  {
   "cell_type": "code",
   "execution_count": 55,
   "metadata": {
    "scrolled": true
   },
   "outputs": [
    {
     "data": {
      "text/latex": [
       "$\\displaystyle 18.0$"
      ],
      "text/plain": [
       "18.0000000000000"
      ]
     },
     "execution_count": 55,
     "metadata": {},
     "output_type": "execute_result"
    }
   ],
   "source": [
    "F1.doit()"
   ]
  },
  {
   "cell_type": "code",
   "execution_count": 56,
   "metadata": {
    "scrolled": false
   },
   "outputs": [
    {
     "data": {
      "image/png": "[encoded data removed]",
      "text/plain": [
       "<Figure size 576x288 with 1 Axes>"
      ]
     },
     "metadata": {
      "needs_background": "light"
     },
     "output_type": "display_data"
    }
   ],
   "source": [
    "# funciones\n",
    "y = np.linspace(-3 , 5, 20)\n",
    "xa = y + 5         # xa(y)  \n",
    "xb = 1/2*y**2 +1   # xb(y)\n",
    "\n",
    "# área a calcular \n",
    "a, b = -2, 4\n",
    "y_area = np.linspace(a , b, 20)\n",
    "xa_area = y_area + 5\n",
    "xb_area = 1/2*y_area**2 +1 \n",
    "\n",
    "# grafico\n",
    "plt.figure(figsize=(8,4))\n",
    "\n",
    "plt.scatter(9,4,c='r')\n",
    "plt.scatter(3,-2,c='r')\n",
    "\n",
    "plt.plot(xa,y, color='c', label='$x_1(y)= y + 5$') \n",
    "plt.plot(xb,y, color='b', label='$x_2(y)=  y^2 /2 + 1$') \n",
    "\n",
    "plt.fill_betweenx(y_area, xb_area, xa_area, alpha=0.2, color='grey')\n",
    "\n",
    "plt.legend()\n",
    "plt.yticks((a, b))\n",
    "plt.xticks([])\n",
    "\n",
    "plt.show()      "
   ]
  },
  {
   "cell_type": "code",
   "execution_count": 57,
   "metadata": {},
   "outputs": [
    {
     "data": {
      "text/latex": [
       "$\\displaystyle \\sqrt{1 - x^{2}}$"
      ],
      "text/plain": [
       "sqrt(1 - x**2)"
      ]
     },
     "execution_count": 57,
     "metadata": {},
     "output_type": "execute_result"
    }
   ],
   "source": [
    "# Coordenadas polares para una region circular. \n",
    "\n",
    "x = symbols('x')\n",
    "y1 = sqrt(1 - x**2)\n",
    "y1"
   ]
  },
  {
   "cell_type": "code",
   "execution_count": 58,
   "metadata": {},
   "outputs": [
    {
     "data": {
      "text/latex": [
       "$\\displaystyle \\int\\limits_{0}^{1}\\int\\limits_{0}^{\\sqrt{1 - x^{2}}} 1\\, dy\\, dx$"
      ],
      "text/plain": [
       "Integral(1, (y, 0, sqrt(1 - x**2)), (x, 0, 1))"
      ]
     },
     "execution_count": 58,
     "metadata": {},
     "output_type": "execute_result"
    }
   ],
   "source": [
    "x,y = symbols('x y')\n",
    "\n",
    "F1 = Integral(1,(y,0,y1))\n",
    "\n",
    "F2 = Integral(F1,(x,0,1))\n",
    "F2"
   ]
  },
  {
   "cell_type": "code",
   "execution_count": 59,
   "metadata": {},
   "outputs": [
    {
     "data": {
      "text/latex": [
       "$\\displaystyle \\frac{\\pi}{4}$"
      ],
      "text/plain": [
       "pi/4"
      ]
     },
     "execution_count": 59,
     "metadata": {},
     "output_type": "execute_result"
    }
   ],
   "source": [
    "F2.doit()"
   ]
  },
  {
   "cell_type": "code",
   "execution_count": 60,
   "metadata": {
    "scrolled": true
   },
   "outputs": [
    {
     "data": {
      "text/latex": [
       "$\\displaystyle \\left[\\begin{matrix}\\rho \\cos{\\left(\\phi \\right)}\\\\\\rho \\sin{\\left(\\phi \\right)}\\end{matrix}\\right]$"
      ],
      "text/plain": [
       "Matrix([\n",
       "[rho*cos(phi)],\n",
       "[rho*sin(phi)]])"
      ]
     },
     "execution_count": 60,
     "metadata": {},
     "output_type": "execute_result"
    }
   ],
   "source": [
    "# cambio de coordenadas y jacobiano \n",
    "# se agrega el jacobiano como factor de ajuste debido al cambio de variables.\n",
    "\n",
    "rho, phi = symbols('rho phi')\n",
    "\n",
    "X = Matrix([rho*cos(phi), rho*sin(phi)])\n",
    "X"
   ]
  },
  {
   "cell_type": "code",
   "execution_count": 61,
   "metadata": {},
   "outputs": [
    {
     "data": {
      "text/latex": [
       "$\\displaystyle \\left[\\begin{matrix}\\cos{\\left(\\phi \\right)} & - \\rho \\sin{\\left(\\phi \\right)}\\\\\\sin{\\left(\\phi \\right)} & \\rho \\cos{\\left(\\phi \\right)}\\end{matrix}\\right]$"
      ],
      "text/plain": [
       "Matrix([\n",
       "[cos(phi), -rho*sin(phi)],\n",
       "[sin(phi),  rho*cos(phi)]])"
      ]
     },
     "execution_count": 61,
     "metadata": {},
     "output_type": "execute_result"
    }
   ],
   "source": [
    "Y = Matrix([rho, phi])\n",
    "J = X.jacobian(Y)\n",
    "J"
   ]
  },
  {
   "cell_type": "code",
   "execution_count": 62,
   "metadata": {},
   "outputs": [
    {
     "data": {
      "text/latex": [
       "$\\displaystyle \\rho$"
      ],
      "text/plain": [
       "rho"
      ]
     },
     "execution_count": 62,
     "metadata": {},
     "output_type": "execute_result"
    }
   ],
   "source": [
    "det(J).simplify()"
   ]
  },
  {
   "cell_type": "code",
   "execution_count": 63,
   "metadata": {},
   "outputs": [
    {
     "data": {
      "text/latex": [
       "$\\displaystyle \\int\\limits_{0}^{\\frac{\\pi}{2}}\\int\\limits_{0}^{1} \\rho\\, d\\rho\\, d\\phi$"
      ],
      "text/plain": [
       "Integral(rho, (rho, 0, 1), (phi, 0, pi/2))"
      ]
     },
     "execution_count": 63,
     "metadata": {},
     "output_type": "execute_result"
    }
   ],
   "source": [
    "rho, phi = symbols('rho phi')\n",
    "\n",
    "F1 = Integral(rho ,(rho,0,1)) # agregamos el jacobiano\n",
    "\n",
    "F2 = Integral(F1,(phi,0,pi/2))\n",
    "F2"
   ]
  },
  {
   "cell_type": "code",
   "execution_count": 64,
   "metadata": {},
   "outputs": [
    {
     "data": {
      "text/latex": [
       "$\\displaystyle \\frac{\\pi}{4}$"
      ],
      "text/plain": [
       "pi/4"
      ]
     },
     "execution_count": 64,
     "metadata": {},
     "output_type": "execute_result"
    }
   ],
   "source": [
    "F2.doit()"
   ]
  },
  {
   "cell_type": "code",
   "execution_count": 65,
   "metadata": {
    "scrolled": true
   },
   "outputs": [
    {
     "data": {
      "image/png": "[encoded data removed]",
      "text/plain": [
       "<Figure size 576x288 with 1 Axes>"
      ]
     },
     "metadata": {
      "needs_background": "light"
     },
     "output_type": "display_data"
    }
   ],
   "source": [
    "# funciones\n",
    "\n",
    "t = np.linspace(0,np.pi, 40)\n",
    "x = np.cos(t)\n",
    "y = np.sin(t)\n",
    "\n",
    "# área \n",
    "a, b = 0, 1\n",
    "x_area = np.linspace(a , b, 20)\n",
    "y_area = np.sqrt(1 - x_area**2)\n",
    "\n",
    "# grafico\n",
    "plt.figure(figsize=(8,4))\n",
    "\n",
    "plt.plot(x,y, color='b') \n",
    "plt.fill_between(y_area, 0, x_area, alpha=0.2, color='grey')\n",
    "\n",
    "plt.xticks((a, b))\n",
    "plt.yticks([])\n",
    "\n",
    "plt.show()      "
   ]
  },
  {
   "cell_type": "code",
   "execution_count": 66,
   "metadata": {
    "scrolled": true
   },
   "outputs": [
    {
     "data": {
      "text/latex": [
       "$\\displaystyle 2 \\int\\limits_{-1}^{1}\\int\\limits_{2 \\sqrt{1 - x^{2}}}^{2 \\sqrt{4 - x^{2}}} 1\\, dy\\, dx$"
      ],
      "text/plain": [
       "2*Integral(1, (y, 2*sqrt(1 - x**2), 2*sqrt(4 - x**2)), (x, -1, 1))"
      ]
     },
     "execution_count": 66,
     "metadata": {},
     "output_type": "execute_result"
    }
   ],
   "source": [
    "# anillo de elipse 1 < (x/a)^2 + (y/b)^2 < 4\n",
    "\n",
    "x,y,a,b = symbols('x y a b')\n",
    "\n",
    "y1 = (b) *sqrt(1 - x**2 / a**2)\n",
    "y2 = (b) *sqrt(4 - x**2 / a**2)\n",
    "\n",
    "Fy = Integral(1,(y,y1,y2))\n",
    "Fx = 2*Integral(Fy,(x,-1,1))\n",
    "\n",
    "Fx.subs(a,1).subs(b,2)"
   ]
  },
  {
   "cell_type": "code",
   "execution_count": 67,
   "metadata": {},
   "outputs": [
    {
     "data": {
      "text/latex": [
       "$\\displaystyle \\left[\\begin{matrix}a \\rho \\cos{\\left(\\phi \\right)}\\\\b \\rho \\sin{\\left(\\phi \\right)}\\end{matrix}\\right]$"
      ],
      "text/plain": [
       "Matrix([\n",
       "[a*rho*cos(phi)],\n",
       "[b*rho*sin(phi)]])"
      ]
     },
     "execution_count": 67,
     "metadata": {},
     "output_type": "execute_result"
    }
   ],
   "source": [
    "# jacobiano para polar elipsoide\n",
    "a, b, rho, phi = symbols('a b rho phi')\n",
    "\n",
    "X = Matrix([a*rho*cos(phi), b*rho*sin(phi)])\n",
    "X"
   ]
  },
  {
   "cell_type": "code",
   "execution_count": 68,
   "metadata": {},
   "outputs": [
    {
     "data": {
      "text/latex": [
       "$\\displaystyle \\left[\\begin{matrix}a \\cos{\\left(\\phi \\right)} & - a \\rho \\sin{\\left(\\phi \\right)}\\\\b \\sin{\\left(\\phi \\right)} & b \\rho \\cos{\\left(\\phi \\right)}\\end{matrix}\\right]$"
      ],
      "text/plain": [
       "Matrix([\n",
       "[a*cos(phi), -a*rho*sin(phi)],\n",
       "[b*sin(phi),  b*rho*cos(phi)]])"
      ]
     },
     "execution_count": 68,
     "metadata": {},
     "output_type": "execute_result"
    }
   ],
   "source": [
    "Y = Matrix([rho, phi])\n",
    "J = X.jacobian(Y)\n",
    "J"
   ]
  },
  {
   "cell_type": "code",
   "execution_count": 69,
   "metadata": {},
   "outputs": [
    {
     "data": {
      "text/latex": [
       "$\\displaystyle a b \\rho$"
      ],
      "text/plain": [
       "a*b*rho"
      ]
     },
     "execution_count": 69,
     "metadata": {},
     "output_type": "execute_result"
    }
   ],
   "source": [
    "det(J).simplify()"
   ]
  },
  {
   "cell_type": "code",
   "execution_count": 70,
   "metadata": {},
   "outputs": [
    {
     "data": {
      "text/latex": [
       "$\\displaystyle \\int\\limits_{0}^{2 \\pi}\\int\\limits_{1}^{4} a b \\rho\\, d\\rho\\, d\\phi$"
      ],
      "text/plain": [
       "Integral(a*b*rho, (rho, 1, 4), (phi, 0, 2*pi))"
      ]
     },
     "execution_count": 70,
     "metadata": {},
     "output_type": "execute_result"
    }
   ],
   "source": [
    "# cambio de variables a polares de elipse junto al jacobiano \n",
    "\n",
    "rho, phi,a,b = symbols('rho phi a b')\n",
    "\n",
    "F1 = Integral(a*b*rho ,(rho,1,4)) # agregamos el jacobiano\n",
    "\n",
    "F2 = Integral(F1,(phi,0,2*pi))\n",
    "F2"
   ]
  },
  {
   "cell_type": "code",
   "execution_count": 71,
   "metadata": {},
   "outputs": [
    {
     "data": {
      "text/latex": [
       "$\\displaystyle 15 \\pi a b$"
      ],
      "text/plain": [
       "15*pi*a*b"
      ]
     },
     "execution_count": 71,
     "metadata": {},
     "output_type": "execute_result"
    }
   ],
   "source": [
    "A = F2.doit()\n",
    "A"
   ]
  },
  {
   "cell_type": "code",
   "execution_count": 72,
   "metadata": {},
   "outputs": [
    {
     "data": {
      "text/latex": [
       "$\\displaystyle 30 \\pi$"
      ],
      "text/plain": [
       "30*pi"
      ]
     },
     "execution_count": 72,
     "metadata": {},
     "output_type": "execute_result"
    }
   ],
   "source": [
    "A.subs(a,1).subs(b,2)"
   ]
  },
  {
   "cell_type": "code",
   "execution_count": 73,
   "metadata": {
    "scrolled": true
   },
   "outputs": [
    {
     "data": {
      "text/latex": [
       "$\\displaystyle 94.3$"
      ],
      "text/plain": [
       "94.3"
      ]
     },
     "execution_count": 73,
     "metadata": {},
     "output_type": "execute_result"
    }
   ],
   "source": [
    "N(A.subs(a,1).subs(b,2), 3)"
   ]
  },
  {
   "cell_type": "code",
   "execution_count": 74,
   "metadata": {
    "scrolled": true
   },
   "outputs": [
    {
     "data": {
      "image/png": "[encoded data removed]",
      "text/plain": [
       "<Figure size 576x288 with 1 Axes>"
      ]
     },
     "metadata": {},
     "output_type": "display_data"
    }
   ],
   "source": [
    "# funciones\n",
    "\n",
    "t = np.linspace(0,2*np.pi,80)\n",
    "\n",
    "# (x/1)^2 + (y/4)^2 = 1\n",
    "xa = np.cos(t)\n",
    "ya = np.sin(t) * 0.5\n",
    "\n",
    "# (x/1)^2 + (y/4)^2 = 4\n",
    "xb = 2* np.cos(t)\n",
    "yb = 2* np.sin(t) * 0.5\n",
    "\n",
    "# grafico\n",
    "plt.figure(figsize=(8,4))\n",
    "\n",
    "plt.plot(xb,yb, color='r',label='$x^2 + (y/4)^2 = 4$') \n",
    "plt.plot(xa,ya, color='b', label='$x^2 + (y/4)^2 = 1$') \n",
    "\n",
    "# área\n",
    "plt.fill_between(xb, 0, yb, alpha=0.4, color='grey')\n",
    "plt.fill_between(xa, 0, ya, alpha=1, color='w')\n",
    "\n",
    "plt.legend(loc=2)\n",
    "plt.xticks([])\n",
    "plt.yticks([])\n",
    "\n",
    "plt.show()      "
   ]
  },
  {
   "cell_type": "markdown",
   "metadata": {},
   "source": [
    "# 5. Integrales triples\n",
    "\n",
    "Hasta ahora solo se vio el cálculo de áreas de una región definida.\n",
    "\n",
    "También se puede calcular volúmenes de un sólido.\n",
    "\n",
    "$\\displaystyle \\int_{a}^{b} \\int_{g(x)}^{f(x)} f(x,y) dy dx $ \n",
    "\n",
    "También se puede extender  ...\n",
    "\n",
    "#### $\\displaystyle \\iiint_V dV = \\int_{a}^{b} \\int_{y_2(x)}^{y_1(x)} \\int_{z_2 (x,y)}^{z_1(x,y)}  dz dy dx $\n",
    "\n",
    "El orden de integración depende de las variables usadas para definir la región."
   ]
  },
  {
   "cell_type": "code",
   "execution_count": 75,
   "metadata": {},
   "outputs": [
    {
     "data": {
      "text/latex": [
       "$\\displaystyle \\int\\limits_{0}^{1}\\int\\limits_{0}^{1}\\int\\limits_{0}^{1} 1\\, dz\\, dy\\, dx$"
      ],
      "text/plain": [
       "Integral(1, (z, 0, 1), (y, 0, 1), (x, 0, 1))"
      ]
     },
     "execution_count": 75,
     "metadata": {},
     "output_type": "execute_result"
    }
   ],
   "source": [
    "# cubo \n",
    "x,y,z = symbols('x y z')\n",
    "\n",
    "F1 = Integral(1,(z,0,1))\n",
    "F2 = Integral(F1,(y,0,1))\n",
    "F3 = Integral(F2,(x,0,1))\n",
    "F3"
   ]
  },
  {
   "cell_type": "code",
   "execution_count": 76,
   "metadata": {},
   "outputs": [
    {
     "data": {
      "text/latex": [
       "$\\displaystyle 1$"
      ],
      "text/plain": [
       "1"
      ]
     },
     "execution_count": 76,
     "metadata": {},
     "output_type": "execute_result"
    }
   ],
   "source": [
    "F3.doit()"
   ]
  },
  {
   "cell_type": "code",
   "execution_count": 77,
   "metadata": {},
   "outputs": [
    {
     "data": {
      "text/latex": [
       "$\\displaystyle e^{- y^{2}}$"
      ],
      "text/plain": [
       "exp(-y**2)"
      ]
     },
     "execution_count": 77,
     "metadata": {},
     "output_type": "execute_result"
    }
   ],
   "source": [
    "# función f(x,y) límite superior\n",
    "x,y = symbols('x y')\n",
    "\n",
    "f= E**(-y**2)\n",
    "f"
   ]
  },
  {
   "cell_type": "code",
   "execution_count": 78,
   "metadata": {},
   "outputs": [
    {
     "data": {
      "text/latex": [
       "$\\displaystyle \\int\\limits_{0}^{1}\\int\\limits_{0}^{y} e^{- y^{2}}\\, dx\\, dy$"
      ],
      "text/plain": [
       "Integral(exp(-y**2), (x, 0, y), (y, 0, 1))"
      ]
     },
     "execution_count": 78,
     "metadata": {},
     "output_type": "execute_result"
    }
   ],
   "source": [
    "F1 = Integral(f,(x,0,y))\n",
    "F2 = Integral(F1,(y,0,1))\n",
    "F2"
   ]
  },
  {
   "cell_type": "code",
   "execution_count": 79,
   "metadata": {},
   "outputs": [
    {
     "data": {
      "text/latex": [
       "$\\displaystyle \\frac{1}{2} - \\frac{1}{2 e}$"
      ],
      "text/plain": [
       "1/2 - exp(-1)/2"
      ]
     },
     "execution_count": 79,
     "metadata": {},
     "output_type": "execute_result"
    }
   ],
   "source": [
    "F2.doit()"
   ]
  },
  {
   "cell_type": "code",
   "execution_count": 80,
   "metadata": {},
   "outputs": [
    {
     "data": {
      "text/latex": [
       "$\\displaystyle 0.316$"
      ],
      "text/plain": [
       "0.316"
      ]
     },
     "execution_count": 80,
     "metadata": {},
     "output_type": "execute_result"
    }
   ],
   "source": [
    "N(F2.doit(), 3)"
   ]
  },
  {
   "cell_type": "code",
   "execution_count": 81,
   "metadata": {
    "scrolled": false
   },
   "outputs": [
    {
     "data": {
      "image/png": "[encoded data removed]",
      "text/plain": [
       "<Figure size 864x432 with 1 Axes>"
      ]
     },
     "metadata": {
      "needs_background": "light"
     },
     "output_type": "display_data"
    }
   ],
   "source": [
    "t = np.linspace(0, 1, 50) \n",
    "x , y = np.meshgrid(t,t)\n",
    "z = np.e**(-y**2)\n",
    "\n",
    "fig = plt.figure(figsize=(12,6))\n",
    "ax = fig.add_subplot(111, projection='3d')\n",
    "\n",
    "surf = ax.plot_surface(x, y, z, rstride=2, cstride=2, cmap=cm.plasma, alpha=0.6)\n",
    "cset = ax.contourf(x, y, z, zdir='z', offset=0, cmap=cm.plasma, alpha=0.2)\n",
    "\n",
    "# x < y\n",
    "t_p1= np.linspace(0, 1, 20) \n",
    "x_p1 , z_p1 = np.meshgrid(t_p1,t_p1)\n",
    "y_p1 = x_p1\n",
    "surf = ax.plot_surface(x_p1, y_p1, z_p1, rstride=1, cstride=1, cmap=cm.Blues, alpha=0.4)\n",
    "\n",
    "# x = 0\n",
    "t_p2= np.linspace(0, 1, 20) \n",
    "y_p2 , z_p2 = np.meshgrid(t_p2,t_p2)\n",
    "x_p2 = np.zeros(len(y_p2))\n",
    "\n",
    "surf = ax.plot_surface(x_p2, y_p2, z_p2, rstride=1, cstride=1, cmap=cm.Blues, alpha=0.4)\n",
    "\n",
    "ax.scatter(0, 0, 0, marker='x', s=50) #(0,0,0)\n",
    "ax.set_xlabel('X')\n",
    "ax.set_ylabel('Y')\n",
    "\n",
    "ax.set_xticks(np.arange(min(t),max(t)+1),2)\n",
    "ax.set_yticks(np.arange(min(t),max(t)+1),2)\n",
    "\n",
    "ax.view_init(20, 50) # (0,0) plano yz (ang x, elevación)\n",
    "\n",
    "plt.show()"
   ]
  },
  {
   "cell_type": "code",
   "execution_count": 82,
   "metadata": {
    "scrolled": false
   },
   "outputs": [
    {
     "data": {
      "image/png": "[encoded data removed]",
      "text/plain": [
       "<Figure size 360x288 with 1 Axes>"
      ]
     },
     "metadata": {
      "needs_background": "light"
     },
     "output_type": "display_data"
    }
   ],
   "source": [
    "x = np.linspace(-0.5,1.5, 20)\n",
    "y = x\n",
    "\n",
    "# región en el plano xy\n",
    "a, b = 0, 1\n",
    "x_area = np.linspace(a , b, 20)\n",
    "yb, ya = x_area, np.zeros(len(x_area))\n",
    "\n",
    "# gráfico \n",
    "plt.figure(figsize=(5,4))\n",
    "\n",
    "plt.plot(x,y, color='b') \n",
    "plt.plot(x,ya, color='b') \n",
    "\n",
    "plt.fill_between(x_area, ya,yb, alpha=0.2, color='grey')\n",
    "\n",
    "plt.xticks((a, b))\n",
    "plt.yticks([])\n",
    "\n",
    "plt.show()      "
   ]
  },
  {
   "cell_type": "markdown",
   "metadata": {},
   "source": [
    "## a. Coordenadas cilíndricas "
   ]
  },
  {
   "cell_type": "code",
   "execution_count": 83,
   "metadata": {},
   "outputs": [
    {
     "data": {
      "text/latex": [
       "$\\displaystyle x^{2} + 4 y^{2}$"
      ],
      "text/plain": [
       "x**2 + 4*y**2"
      ]
     },
     "execution_count": 83,
     "metadata": {},
     "output_type": "execute_result"
    }
   ],
   "source": [
    "# volumen entre el paraboloide elíptico z = x^2 + 4*y^2 y el cilindro x^2 + 4*y^2 = 4 para Z>0 \n",
    "\n",
    "x,y = symbols('x y')\n",
    "\n",
    "f = x**2 + 4*y**2\n",
    "f"
   ]
  },
  {
   "cell_type": "code",
   "execution_count": 84,
   "metadata": {
    "scrolled": true
   },
   "outputs": [
    {
     "data": {
      "text/latex": [
       "$\\displaystyle 4 \\int\\limits_{0}^{2}\\int\\limits_{0}^{0.5 \\sqrt{4 - x^{2}}} \\left(x^{2} + 4 y^{2}\\right)\\, dy\\, dx$"
      ],
      "text/plain": [
       "4*Integral(x**2 + 4*y**2, (y, 0, 0.5*sqrt(4 - x**2)), (x, 0, 2))"
      ]
     },
     "execution_count": 84,
     "metadata": {},
     "output_type": "execute_result"
    }
   ],
   "source": [
    "F1 = Integral(f,(y,0, (1/2)*sqrt(4 - x**2)))\n",
    "F2 = 4* Integral(F1,(x,0,2))\n",
    "F2"
   ]
  },
  {
   "cell_type": "code",
   "execution_count": 85,
   "metadata": {},
   "outputs": [
    {
     "data": {
      "text/latex": [
       "$\\displaystyle \\left[\\begin{matrix}\\rho \\cos{\\left(\\theta \\right)}\\\\0.5 \\rho \\sin{\\left(\\theta \\right)}\\\\z\\end{matrix}\\right]$"
      ],
      "text/plain": [
       "Matrix([\n",
       "[    rho*cos(theta)],\n",
       "[0.5*rho*sin(theta)],\n",
       "[                 z]])"
      ]
     },
     "execution_count": 85,
     "metadata": {},
     "output_type": "execute_result"
    }
   ],
   "source": [
    "# jacobiano para coordenadas cilíndricas y elípticas \n",
    "\n",
    "rho, theta, z = symbols('rho theta z')\n",
    "\n",
    "X = Matrix([rho*cos(theta), (1/2)*rho*sin(theta), z])\n",
    "X"
   ]
  },
  {
   "cell_type": "code",
   "execution_count": 86,
   "metadata": {},
   "outputs": [
    {
     "data": {
      "text/latex": [
       "$\\displaystyle \\left[\\begin{matrix}\\cos{\\left(\\theta \\right)} & - \\rho \\sin{\\left(\\theta \\right)} & 0\\\\0.5 \\sin{\\left(\\theta \\right)} & 0.5 \\rho \\cos{\\left(\\theta \\right)} & 0\\\\0 & 0 & 1\\end{matrix}\\right]$"
      ],
      "text/plain": [
       "Matrix([\n",
       "[    cos(theta),    -rho*sin(theta), 0],\n",
       "[0.5*sin(theta), 0.5*rho*cos(theta), 0],\n",
       "[             0,                  0, 1]])"
      ]
     },
     "execution_count": 86,
     "metadata": {},
     "output_type": "execute_result"
    }
   ],
   "source": [
    "Y = Matrix([rho, theta, z])\n",
    "\n",
    "X.jacobian(Y)"
   ]
  },
  {
   "cell_type": "code",
   "execution_count": 87,
   "metadata": {},
   "outputs": [
    {
     "data": {
      "text/latex": [
       "$\\displaystyle 0.5 \\rho$"
      ],
      "text/plain": [
       "0.5*rho"
      ]
     },
     "execution_count": 87,
     "metadata": {},
     "output_type": "execute_result"
    }
   ],
   "source": [
    "# se toma el valor absoluto del jacobiano\n",
    "det(X.jacobian(Y)).simplify()"
   ]
  },
  {
   "cell_type": "code",
   "execution_count": 88,
   "metadata": {},
   "outputs": [
    {
     "data": {
      "text/latex": [
       "$\\displaystyle x^{2} + 4 y^{2}$"
      ],
      "text/plain": [
       "x**2 + 4*y**2"
      ]
     },
     "execution_count": 88,
     "metadata": {},
     "output_type": "execute_result"
    }
   ],
   "source": [
    "f"
   ]
  },
  {
   "cell_type": "code",
   "execution_count": 89,
   "metadata": {},
   "outputs": [
    {
     "data": {
      "text/latex": [
       "$\\displaystyle 1.0 \\rho^{2}$"
      ],
      "text/plain": [
       "1.0*rho**2"
      ]
     },
     "execution_count": 89,
     "metadata": {},
     "output_type": "execute_result"
    }
   ],
   "source": [
    "# funcion en coordenadas cilndricas\n",
    "rho, theta, z = symbols('rho theta z')\n",
    "\n",
    "f.subs(x,rho*cos(theta)).subs(y,(1/2)*rho*sin(theta)).simplify()"
   ]
  },
  {
   "cell_type": "code",
   "execution_count": 90,
   "metadata": {},
   "outputs": [
    {
     "data": {
      "text/latex": [
       "$\\displaystyle \\int\\limits_{0}^{2 \\pi}\\int\\limits_{0}^{2}\\int\\limits_{0}^{\\rho^{2}} 0.5 \\rho\\, dz\\, d\\rho\\, d\\theta$"
      ],
      "text/plain": [
       "Integral(0.5*rho, (z, 0, rho**2), (rho, 0, 2), (theta, 0, 2*pi))"
      ]
     },
     "execution_count": 90,
     "metadata": {},
     "output_type": "execute_result"
    }
   ],
   "source": [
    "F1 = Integral((1/2)*rho,(z,0,rho**2))\n",
    "\n",
    "F2 = Integral(F1,(rho,0,2)) # paraboloide z = x^2 + 4*y^2 -> z = rho ^2 \n",
    "\n",
    "F3 = Integral(F2,(theta,0,2*pi)) # giro completo\n",
    "\n",
    "F3"
   ]
  },
  {
   "cell_type": "code",
   "execution_count": 91,
   "metadata": {},
   "outputs": [
    {
     "data": {
      "text/latex": [
       "$\\displaystyle 4.0 \\pi$"
      ],
      "text/plain": [
       "4.0*pi"
      ]
     },
     "execution_count": 91,
     "metadata": {},
     "output_type": "execute_result"
    }
   ],
   "source": [
    "F3.doit()"
   ]
  },
  {
   "cell_type": "code",
   "execution_count": 92,
   "metadata": {
    "scrolled": true
   },
   "outputs": [
    {
     "data": {
      "text/latex": [
       "$\\displaystyle 12.6$"
      ],
      "text/plain": [
       "12.6"
      ]
     },
     "execution_count": 92,
     "metadata": {},
     "output_type": "execute_result"
    }
   ],
   "source": [
    "N(F3.doit(), 3)"
   ]
  },
  {
   "cell_type": "code",
   "execution_count": 93,
   "metadata": {
    "scrolled": true
   },
   "outputs": [
    {
     "data": {
      "image/png": "[encoded data removed]",
      "text/plain": [
       "<Figure size 864x432 with 1 Axes>"
      ]
     },
     "metadata": {
      "needs_background": "light"
     },
     "output_type": "display_data"
    }
   ],
   "source": [
    "fig = plt.figure(figsize=(12,6))\n",
    "ax = fig.add_subplot(111, projection='3d')\n",
    "\n",
    "# Paraboloide elíptico\n",
    "\n",
    "t = np.linspace(0,2*np.pi,20)\n",
    "r = np.linspace(0,1,20)\n",
    "theta_p, rho_p = np.meshgrid(t, r)\n",
    "\n",
    "z1 = rho_p **2\n",
    "\n",
    "x1 = rho_p*np.cos(theta_p) \n",
    "y1 = 0.5*rho_p*np.sin(theta_p)\n",
    "\n",
    "ax.plot_surface(x1,y1,z1, cmap=cm.viridis, alpha=0.4)\n",
    "ax.contourf(x1,y1,z1, zdir='z',offset=0, cmap=cm.viridis, alpha=0.2)\n",
    "\n",
    "# Cilindro elíptico \n",
    "\n",
    "z = np.linspace(0, 1 ,20)\n",
    "theta_c, z2 = np.meshgrid(t, z)\n",
    "\n",
    "x2 = np.cos(theta_c) \n",
    "y2 = 0.5*np.sin(theta_c)\n",
    "\n",
    "ax.plot_surface(x2,y2,z2, cmap=cm.viridis, alpha=0.4)\n",
    "\n",
    "ax.scatter(0, 0, 0, marker='x', s=50) #(0,0,0)\n",
    "\n",
    "ax.set_xlabel('X')\n",
    "ax.set_ylabel('Y')\n",
    "\n",
    "ax.view_init(20, 40) # (0,0) plano yz (ang x, elevación)\n",
    "plt.show()"
   ]
  },
  {
   "cell_type": "markdown",
   "metadata": {},
   "source": [
    "## b. Coordenadas esféricas\n"
   ]
  },
  {
   "cell_type": "code",
   "execution_count": 94,
   "metadata": {},
   "outputs": [
    {
     "data": {
      "text/latex": [
       "$\\displaystyle \\sqrt{- x^{2} - y^{2} + 1}$"
      ],
      "text/plain": [
       "sqrt(-x**2 - y**2 + 1)"
      ]
     },
     "execution_count": 94,
     "metadata": {},
     "output_type": "execute_result"
    }
   ],
   "source": [
    "# Volumen de esfera de radio 1 en el 1er octante\n",
    "\n",
    "x,y,z = symbols('x y z')\n",
    "\n",
    "z1 = sqrt(1 -x**2 -y**2)\n",
    "z1"
   ]
  },
  {
   "cell_type": "code",
   "execution_count": 95,
   "metadata": {
    "scrolled": true
   },
   "outputs": [
    {
     "data": {
      "text/latex": [
       "$\\displaystyle \\int\\limits_{0}^{1}\\int\\limits_{0}^{\\sqrt{1 - x^{2}}}\\int\\limits_{0}^{\\sqrt{- x^{2} - y^{2} + 1}} 1\\, dz\\, dy\\, dx$"
      ],
      "text/plain": [
       "Integral(1, (z, 0, sqrt(-x**2 - y**2 + 1)), (y, 0, sqrt(1 - x**2)), (x, 0, 1))"
      ]
     },
     "execution_count": 95,
     "metadata": {},
     "output_type": "execute_result"
    }
   ],
   "source": [
    "F1 = Integral(1,(z,0,z1))\n",
    "\n",
    "F2 = Integral(F1,(y,0,sqrt(1- x**2)))\n",
    "\n",
    "F3 = Integral(F2,(x,0,1))\n",
    "\n",
    "F3"
   ]
  },
  {
   "cell_type": "code",
   "execution_count": 96,
   "metadata": {},
   "outputs": [
    {
     "data": {
      "text/latex": [
       "$\\displaystyle \\left[\\begin{matrix}\\rho \\sin{\\left(\\phi \\right)} \\cos{\\left(\\theta \\right)}\\\\\\rho \\sin{\\left(\\phi \\right)} \\sin{\\left(\\theta \\right)}\\\\\\rho \\cos{\\left(\\phi \\right)}\\end{matrix}\\right]$"
      ],
      "text/plain": [
       "Matrix([\n",
       "[rho*sin(phi)*cos(theta)],\n",
       "[rho*sin(phi)*sin(theta)],\n",
       "[           rho*cos(phi)]])"
      ]
     },
     "execution_count": 96,
     "metadata": {},
     "output_type": "execute_result"
    }
   ],
   "source": [
    "# jacobiano para coordenadas esféricas  \n",
    "# recordemos que theta  es el ángulo desde el eje x en el plano xy (0 < theta < 2*pi)\n",
    "# mientras que phi es el ángulo desde el eje z(+) hasta el eje z(-) (0 < phi <pi) \n",
    "\n",
    "# un ángulo gira respecto al eje z y el otro baja \n",
    "\n",
    "rho, phi, theta = symbols('rho phi theta')\n",
    "\n",
    "X = Matrix([rho*sin(phi)*cos(theta), rho*sin(theta)*sin(phi), rho*cos(phi)])\n",
    "X"
   ]
  },
  {
   "cell_type": "code",
   "execution_count": 97,
   "metadata": {},
   "outputs": [
    {
     "data": {
      "text/latex": [
       "$\\displaystyle \\left[\\begin{matrix}\\sin{\\left(\\phi \\right)} \\cos{\\left(\\theta \\right)} & \\rho \\cos{\\left(\\phi \\right)} \\cos{\\left(\\theta \\right)} & - \\rho \\sin{\\left(\\phi \\right)} \\sin{\\left(\\theta \\right)}\\\\\\sin{\\left(\\phi \\right)} \\sin{\\left(\\theta \\right)} & \\rho \\sin{\\left(\\theta \\right)} \\cos{\\left(\\phi \\right)} & \\rho \\sin{\\left(\\phi \\right)} \\cos{\\left(\\theta \\right)}\\\\\\cos{\\left(\\phi \\right)} & - \\rho \\sin{\\left(\\phi \\right)} & 0\\end{matrix}\\right]$"
      ],
      "text/plain": [
       "Matrix([\n",
       "[sin(phi)*cos(theta), rho*cos(phi)*cos(theta), -rho*sin(phi)*sin(theta)],\n",
       "[sin(phi)*sin(theta), rho*sin(theta)*cos(phi),  rho*sin(phi)*cos(theta)],\n",
       "[           cos(phi),           -rho*sin(phi),                        0]])"
      ]
     },
     "execution_count": 97,
     "metadata": {},
     "output_type": "execute_result"
    }
   ],
   "source": [
    "Y = Matrix([rho, phi, theta])\n",
    "X.jacobian(Y)"
   ]
  },
  {
   "cell_type": "code",
   "execution_count": 98,
   "metadata": {},
   "outputs": [
    {
     "data": {
      "text/latex": [
       "$\\displaystyle \\rho^{2} \\sin{\\left(\\phi \\right)}$"
      ],
      "text/plain": [
       "rho**2*sin(phi)"
      ]
     },
     "execution_count": 98,
     "metadata": {},
     "output_type": "execute_result"
    }
   ],
   "source": [
    "# determinante del jacobiano\n",
    "# para recordar ... el ángulo que baja esta en el jacobiano\n",
    "det(X.jacobian(Y)).simplify()"
   ]
  },
  {
   "cell_type": "code",
   "execution_count": 99,
   "metadata": {},
   "outputs": [
    {
     "data": {
      "text/latex": [
       "$\\displaystyle \\int\\limits_{0}^{\\frac{\\pi}{2}}\\int\\limits_{0}^{\\frac{\\pi}{2}}\\int\\limits_{0}^{1} \\rho^{2} \\sin{\\left(\\phi \\right)}\\, d\\rho\\, d\\phi\\, d\\theta$"
      ],
      "text/plain": [
       "Integral(rho**2*sin(phi), (rho, 0, 1), (phi, 0, pi/2), (theta, 0, pi/2))"
      ]
     },
     "execution_count": 99,
     "metadata": {},
     "output_type": "execute_result"
    }
   ],
   "source": [
    "# cambio de coordenadas \n",
    "F1 = Integral(sin(phi)*rho**2,(rho,0,1))\n",
    "\n",
    "# 0 < phi < pi (desde z+ a z-) llega al plano xy en pi/2\n",
    "\n",
    "F2 = Integral(F1,(phi,0,pi/2))   \n",
    "\n",
    "# 0 < phi < 2*pi (giro completo) llega al plano yz en pi/2\n",
    "\n",
    "F3 = Integral(F2,(theta,0,pi/2))\n",
    "\n",
    "F3"
   ]
  },
  {
   "cell_type": "code",
   "execution_count": 100,
   "metadata": {
    "scrolled": true
   },
   "outputs": [
    {
     "data": {
      "text/latex": [
       "$\\displaystyle \\frac{\\pi}{6}$"
      ],
      "text/plain": [
       "pi/6"
      ]
     },
     "execution_count": 100,
     "metadata": {},
     "output_type": "execute_result"
    }
   ],
   "source": [
    "F3.doit()"
   ]
  },
  {
   "cell_type": "code",
   "execution_count": 101,
   "metadata": {},
   "outputs": [
    {
     "data": {
      "image/png": "[encoded data removed]",
      "text/plain": [
       "<Figure size 864x432 with 1 Axes>"
      ]
     },
     "metadata": {
      "needs_background": "light"
     },
     "output_type": "display_data"
    }
   ],
   "source": [
    "### 1/8 Esfera\n",
    "\n",
    "fig = plt.figure(figsize=(12,6))\n",
    "ax = fig.gca(projection='3d')\n",
    "\n",
    "rho = 1\n",
    "phi , theta = np.meshgrid(np.linspace(0,np.pi/2, 20), np.linspace(0,np.pi/2, 20)) \n",
    "\n",
    "x1 = np.sin(phi)* np.cos(theta)*rho\n",
    "y1 = np.sin(phi)* np.sin(theta)*rho\n",
    "z1 = np.cos(phi)*rho\n",
    "\n",
    "ax.plot_surface(x1,y1,z1, cmap=cm.viridis, alpha=0.6)\n",
    "\n",
    "ax.scatter(0,0,0, marker='x', s=40)\n",
    "\n",
    "ax.set_xlabel('X')\n",
    "ax.set_ylabel('Y')\n",
    "\n",
    "ax.view_init(20, 40)\n",
    "plt.show()"
   ]
  },
  {
   "cell_type": "code",
   "execution_count": 102,
   "metadata": {},
   "outputs": [
    {
     "data": {
      "text/latex": [
       "$\\displaystyle \\int\\limits_{0}^{2 \\pi}\\int\\limits_{0}^{\\frac{\\pi}{4}}\\int\\limits_{3}^{4} \\rho^{2} \\sin{\\left(\\phi \\right)}\\, d\\rho\\, d\\phi\\, d\\theta$"
      ],
      "text/plain": [
       "Integral(rho**2*sin(phi), (rho, 3, 4), (phi, 0, pi/4), (theta, 0, 2*pi))"
      ]
     },
     "execution_count": 102,
     "metadata": {},
     "output_type": "execute_result"
    }
   ],
   "source": [
    "## ejer casquete esférico entre los radios r = 3 y r =4 para z>0 (1 casquete)\n",
    "# con corte de cono x^2 + y^2 = z^2\n",
    "\n",
    "rho, phi, theta = symbols('rho phi theta')\n",
    "\n",
    "F1 = Integral(sin(phi)*rho**2,(rho,3,4))\n",
    "\n",
    "F2 = Integral(F1,(phi,0,pi/4)) # y=0 -> x^2 = z^2 -> x=z\n",
    "\n",
    "F3 = Integral(F2,(theta,0,pi*2)) # giro completo\n",
    "\n",
    "F3"
   ]
  },
  {
   "cell_type": "code",
   "execution_count": 103,
   "metadata": {
    "scrolled": true
   },
   "outputs": [
    {
     "data": {
      "text/latex": [
       "$\\displaystyle \\frac{37 \\pi \\left(2 - \\sqrt{2}\\right)}{3}$"
      ],
      "text/plain": [
       "37*pi*(2 - sqrt(2))/3"
      ]
     },
     "execution_count": 103,
     "metadata": {},
     "output_type": "execute_result"
    }
   ],
   "source": [
    "F3.doit().simplify()"
   ]
  },
  {
   "cell_type": "code",
   "execution_count": 104,
   "metadata": {
    "scrolled": false
   },
   "outputs": [
    {
     "data": {
      "text/latex": [
       "$\\displaystyle 22.7$"
      ],
      "text/plain": [
       "22.7"
      ]
     },
     "execution_count": 104,
     "metadata": {},
     "output_type": "execute_result"
    }
   ],
   "source": [
    "N(F3.doit() , 3)"
   ]
  },
  {
   "cell_type": "code",
   "execution_count": 105,
   "metadata": {
    "scrolled": true
   },
   "outputs": [
    {
     "data": {
      "image/png": "[encoded data removed]",
      "text/plain": [
       "<Figure size 864x432 with 1 Axes>"
      ]
     },
     "metadata": {
      "needs_background": "light"
     },
     "output_type": "display_data"
    }
   ],
   "source": [
    "fig = plt.figure(figsize=(12,6))\n",
    "ax = fig.gca(projection='3d')\n",
    "\n",
    "# ángulos de barrido para las esfera  \n",
    "phi , theta = np.meshgrid(np.linspace(0,np.pi/4, 40), np.linspace(0,2*np.pi, 40)) \n",
    "\n",
    "# esfera r = 4\n",
    "rho_sup = 16 \n",
    "\n",
    "x1 = np.sin(phi)* np.cos(theta)*rho_sup\n",
    "y1 = np.sin(phi)* np.sin(theta)*rho_sup\n",
    "z1 = np.cos(phi)* rho_sup\n",
    "\n",
    "ax.plot_surface(x1,y1,z1, cmap=cm.Blues, alpha=0.8)\n",
    "\n",
    "# esfera r = 3\n",
    "rho_inf = 9  \n",
    "\n",
    "x2 = np.sin(phi)* np.cos(theta)*rho_inf\n",
    "y2 = np.sin(phi)* np.sin(theta)*rho_inf\n",
    "z2 = np.cos(phi)* rho_inf\n",
    "\n",
    "ax.plot_surface(x2,y2,z2, cmap=cm.Purples, alpha=0.8)\n",
    "\n",
    "# cono x^2 + y^2 = z^2\n",
    "\n",
    "phi_cono = np.pi/4\n",
    "t = np.linspace(0, 2*np.pi,40)\n",
    "r = np.linspace(9, 16, 20)\n",
    "\n",
    "rho_cono , theta_cono = np.meshgrid(r , t)\n",
    "\n",
    "x3 = np.sin(phi_cono)* np.cos(theta_cono)*rho_cono\n",
    "y3 = np.sin(phi_cono)* np.sin(theta_cono)*rho_cono\n",
    "z3 = np.cos(phi_cono)*rho_cono\n",
    "\n",
    "ax.plot_surface(x3,y3,z3, cmap=cm.Greens, alpha=0.4)\n",
    "ax.contourf(x3,y3,z3, zdir='z',offset=0, cmap=cm.viridis, alpha=0.6)\n",
    "\n",
    "ax.scatter(0,0,0, marker='x',c='black', s=40)\n",
    "\n",
    "ax.set_xlabel('X')\n",
    "ax.set_ylabel('Y')\n",
    "ax.view_init(20, 20)\n",
    "plt.show()"
   ]
  },
  {
   "cell_type": "code",
   "execution_count": null,
   "metadata": {},
   "outputs": [],
   "source": []
  },
  {
   "cell_type": "markdown",
   "metadata": {},
   "source": [
    "# 6. Aplicaciones \n",
    "\n",
    "## a. Geometría\n",
    "\n",
    "Hasta ahora solo vimos áreas y volumes pero podemos podemos calcular otras magnitudes geométricas para figuras planas y sólidos, las cuales se pueden calcular con integrales.\n",
    "\n",
    "## 1) Masa \n",
    "\n",
    "### Caso lineal  \n",
    "\n",
    "Para una barra de largo L si su extremo izquierdo coincide con el origen de coordenadas.\n",
    "Se puede definir su densidad lineal como $\\rho = f(x)$\n",
    "\n",
    "Su masa queda definida como:\n",
    "\n",
    "$ M = \\displaystyle \\int_{0}^{L} \\rho(x) dx $\n",
    "\n",
    "\n",
    "### Caso superficial\n",
    "\n",
    "Para la masa de una lámina delgada, con la densidad superficial $\\rho = f(x,y)$ \n",
    "\n",
    "$ M =\\displaystyle \\iint_{R} \\rho(x,y) dA $\n",
    "\n",
    "### Caso volumétrico\n",
    "\n",
    "Para un sólido en el espacio, con la densidad volumétrica $\\rho = f(x,y,z)$\n",
    "\n",
    "\n",
    "$ M = \\displaystyle \\iiint_{V} \\rho(x,y,z) dV $\n",
    "\n",
    "$\\,$\n",
    "\n",
    "## 2) Primer momento de área\n",
    " \n",
    "### Momento estático para una lámina\n",
    "\n",
    "Con los momentos se puede calcular el baricentro de la figura plana.\n",
    "\n",
    "$ S_x = \\iint_{A} x dA  $\n",
    "\n",
    "$ S_y = \\iint_{A} y dA  $\n",
    "\n",
    "Baricentro de la figura\n",
    "\n",
    "$ \\bar{x} = \\displaystyle \\frac{S_x}{A} = \\frac{\\displaystyle \\iint_{A} x dA}{\\displaystyle \\iint_{A}dA} $\n",
    "\n",
    "$ \\bar{y} = \\displaystyle \\frac{S_y}{A} = \\frac{\\displaystyle \\iint_{A} y dA}{\\displaystyle \\iint_{A}dA} $\n",
    "\n",
    "### Momento estático para un sólido\n",
    "\n",
    "Se puede calcular el baricentro de un volumen, partiendo desde sus momentos respecto a los planos coordenados.\n",
    "\n",
    "Para el caso tridimensional, se tendra una ecuación para cada eje, en el eje coordenado x:\n",
    "\n",
    "$ \\bar{x} = \\frac{ \\displaystyle \\iiint_{V} x dV}{\\displaystyle \\iint_{V}dV} $\n",
    "\n",
    "$\\,$\n",
    "\n",
    "## 3) Segundo momento de área \n",
    "\n",
    "Momento de inercia es una propiedad de las áreas planas pero que se aplica a secciones transversales \n",
    "\n",
    "Se define para cada eje coordenado y el polar.\n",
    "\n",
    "$ I_x = \\iint_{A} y^2  dA $\n",
    "\n",
    "$ I_y = \\iint_{A} x^2 dA $\n",
    "\n",
    "$ I_o = \\iint_{A} (x^2+ y^2) dA $\n",
    "\n",
    "Momento centrífugo: \n",
    "\n",
    "$ I_{xy} = \\iint_{A} xy  dA $\n",
    "\n",
    "Con los momentos se puede calcular el ángulo para los ejes principales de inercia de una sección.\n",
    "\n",
    "$\\,$\n",
    "\n",
    "## 4) Momento de inercia de una masa \n",
    "\n",
    "Sea un sólido con una densidad volumétrica (distribución de masas) se puede medir su momento de inercia respecto a un eje de giro. Esta magnitud se usa para calcular la energía cinética de un cuerpo en rotación.\n",
    "\n",
    "Para el eje coordenado x:\n",
    "\n",
    "$ I_x = \\iiint_V r_x dm = \\iiint_V (y^2 + z^2) dm = \\iiint_V (y^2 + z^2) \\rho dV $\n",
    "\n",
    "El diferencial de masa $dm$ se puede adaptar a la geométria del sólido para facilitar el cálculo. \n",
    "\n",
    "Entonces podemos llegar al centro de masas.\n",
    "\n",
    "Para el eje coordenado x:\n",
    "\n",
    "$ r_{CM} = \\displaystyle \\frac{I_x}{M} = \\frac{\\displaystyle \\iiint_V (y^2 + z^2) dV}{\\displaystyle \\iiint_{V}  dV}$\n",
    "\n",
    "Si la densidad no es constante ...\n",
    "\n",
    "$ r_{CM} = \\displaystyle \\frac{I_x}{M} = \\frac{\\displaystyle \\iiint_V (y^2 + z^2) \\rho(x,y,z) dV}{\\displaystyle \\iiint_{V} \\rho(x,y,z) dV}$\n",
    "\n",
    "\n",
    "Hay que notar que el baricentro de un sólido va a coincidir con su centro de masas cuando la densidad volumentrica es uniforme.\n",
    "\n",
    "Por ejemplo, una esfera tiene su baricentro en su centro pero si su densidad hace que haya más masa concentrada en una región del volumen, su centro de masa estará ubicado en otro punto diferente del centro.  "
   ]
  },
  {
   "cell_type": "markdown",
   "metadata": {},
   "source": [
    "## b. Fuerzas distribuidas\n",
    "\n",
    "Se puede crear un modelo para una carga lineal distribuida sobre una barra.\n",
    "La carga distribuida puede ser constante en el caso mas simple o estar en funcion del eje longitudinal.\n",
    "\n",
    "Fuerza resultante es la suma de cada carga sobre la barra :\n",
    "\n",
    "$ P = \\displaystyle \\int_{0}^{L} p(x) dx $\n",
    "\n",
    "Momento resultante respecto al eje x que ejerce la carga sobre la barra:\n",
    "\n",
    "$ M_x = \\displaystyle \\int_{0}^{L} x p(x) dx $\n",
    "\n",
    "Se puede hallar su punto de aplicacion para una fuerza puntual equivalente. \n",
    "\n",
    "$ \\bar x_p = \\frac{M_x}{P} = \\frac{\\displaystyle \\int_{0}^{L} x p(x) dx}{\\displaystyle \\int_{0}^{L} p(x) dx}   $\n",
    "\n",
    "\n",
    "Si en vez de una carga lineal se tiene una carga distribuida sobre un área, la fuerza distribuida p(x,y) sobre una superficie tiene una fuerza P y momento M .\n",
    "\n",
    "La carga distribuida se puede comparar con un solido de carga, un volumen.\n",
    "\n",
    "$ P_x = \\displaystyle \\iint_{A} p(x,y) dA = \\iiint_V dV $\n",
    "\n",
    "$ M_x = \\displaystyle \\iint_{A} x p(x,y) dA = \\iiint_V x dV$\n",
    "\n",
    "Centro de aplicacion de la fuerza resultante.\n",
    "\n",
    "$ \\bar x_p = \\frac{M_x}{P_x} = \\frac{ \\displaystyle \\iint_{A} p(x,y) dA}{\\displaystyle \\iint_{A} x p(x,y) dA}   $\n",
    "\n",
    "Este es el principio de cálculo para la fuerza que soportan las compuertas sumergidas en líquido en hidrostática."
   ]
  },
  {
   "cell_type": "markdown",
   "metadata": {},
   "source": [
    "## c. Estadística\n",
    "\n",
    "Este campo de estudio es muy amplio pero una forma de resumir uan de sus objetivos es el análisis de datos.  \n",
    "\n",
    "Si se tiene una función $f(x)$ se llama función de densidad si cumple que:\n",
    "\n",
    "$f(x) \\geq 0$\n",
    "\n",
    "$ \\displaystyle \\int_{- \\infty}^{+ \\infty} f(x) dx = 1$\n",
    "\n",
    "Se puede hallar su funcion de distribucion acumulativa que es ...\n",
    "\n",
    "\n",
    "$ F(x) =  \\displaystyle\\int_{- \\infty}^{x} f(t) dt$\n",
    "\n",
    "\n",
    "Se puede hallar el valor esperado $E(x)$ y la variaza $Var(x)$\n",
    "\n",
    "$ E(x) = \\mu = \\displaystyle \\int_{- \\infty}^{+ \\infty}  x f(x) dx$\n",
    " \n",
    "\n",
    "$ Var(x) =\\sigma^2 = \\displaystyle \\int_{- \\infty}^{+ \\infty} (x - \\mu)^2 f(x)  dx$\n",
    "\n",
    "\n",
    "$\\,$\n",
    "\n",
    "Tambien se puede extender al caso multivariable si se tiene una función $f(x,y), si...$\n",
    "\n",
    "$f(x,y) \\geq 0$\n",
    "\n",
    "$ \\displaystyle \\int_{- \\infty}^{+ \\infty} \\int_{- \\infty}^{+ \\infty} f(x,y) dx dy = 1$\n",
    "\n",
    "con valor esperado respecto a cada variable \n",
    "\n",
    "$ E(x) = \\mu_x =\\displaystyle \\int_{- \\infty}^{+ \\infty}  x f(x,y) dx dy$\n",
    "\n",
    "$ E(y) = \\mu_y =\\displaystyle \\int_{- \\infty}^{+ \\infty}  y f(x,y) dx dy$\n",
    "\n",
    "y con covarianza \n",
    "\n",
    "$ \\sigma_{xy} = \\displaystyle \\int_{- \\infty}^{+ \\infty} \\int_{- \\infty}^{+ \\infty}(x- \\mu_x)(y- \\mu_y) f(x,y)  dx dy$"
   ]
  },
  {
   "cell_type": "markdown",
   "metadata": {},
   "source": [
    "# 7. Linealidad\n",
    "\n",
    "Para terminar quiero mencionar la aplicación lineal que tienen la derivación y la integración, es decir que ambas operaciones son transformaciones lineales.\n",
    "\n",
    "Linealidad en derivadas\n",
    "\n",
    "$\\displaystyle \\frac{df(\\lambda x)}{dx} = \\lambda \\frac{df(x)}{dx} $\n",
    "\n",
    "$ \\displaystyle \\frac{d}{dx} [f(x) + g(x)] = \\frac{d}{dx} f(x) + \\frac{d}{dx} g(x) $\n",
    "\n",
    "$\\,$\n",
    "\n",
    "Linealidad en integrales\n",
    "\n",
    "$\\displaystyle \\int \\lambda f(x) dx = \\lambda \\int  f(x) dx $\n",
    "\n",
    "$\\displaystyle \\int f(x) + g(x) dx = \\int f(x) dx + \\int g(x) dx $\n"
   ]
  },
  {
   "cell_type": "code",
   "execution_count": null,
   "metadata": {},
   "outputs": [],
   "source": []
  }
 ],
 "metadata": {
  "kernelspec": {
   "display_name": "Python 3",
   "language": "python",
   "name": "python3"
  },
  "language_info": {
   "codemirror_mode": {
    "name": "ipython",
    "version": 3
   },
   "file_extension": ".py",
   "mimetype": "text/x-python",
   "name": "python",
   "nbconvert_exporter": "python",
   "pygments_lexer": "ipython3",
   "version": "3.7.7"
  }
 },
 "nbformat": 4,
 "nbformat_minor": 4
}
